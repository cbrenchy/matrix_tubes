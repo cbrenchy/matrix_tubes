{
 "cells": [
  {
   "cell_type": "code",
   "execution_count": 46,
   "metadata": {},
   "outputs": [],
   "source": [
    "import os\n",
    "import biom\n",
    "import warnings\n",
    "import numpy as np\n",
    "import pandas as pd\n",
    "import qiime2 as q2\n",
    "from skbio import DistanceMatrix\n",
    "from biom import Table\n",
    "from assets.util import add_taxsplit\n",
    "from skbio import OrdinationResults\n",
    "from qiime2.plugins.emperor.actions import biplot\n",
    "import skbio\n",
    "from skbio.stats.distance import MissingIDError\n",
    "\n",
    "\n",
    "# plotting\n",
    "import matplotlib\n",
    "import seaborn as sns\n",
    "import matplotlib.pyplot as plt\n",
    "#from upsetplot import UpSet\n",
    "#from upsetplot import generate_counts, plot\n",
    "#from upsetplot import from_memberships\n",
    "#from matplotlib_venn import venn2\n",
    "#from matplotlib_venn import (venn3, venn3_circles,venn2_circles)\n",
    "\n",
    "# helper functions\n",
    "from assets.util import (mantel_matched, simulate_depth, all_dists, nested_permanova)\n",
    "\n",
    "warnings.filterwarnings('ignore')\n",
    "warnings.filterwarnings(\"ignore\", category=DeprecationWarning)\n",
    "plt.style.use('ggplot')\n",
    "plt.style.use('tableau-colorblind10')\n",
    "paper_rc = {'lines.markersize': 5}                  \n",
    "sns.set_context(\"paper\", rc = paper_rc)   \n",
    "plt.rcParams['xtick.labelsize'] = 18\n",
    "plt.rcParams['ytick.labelsize'] = 18\n",
    "plt.rcParams['axes.linewidth'] = 2\n",
    "plt.rcParams[\"font.weight\"] = \"bold\"\n",
    "plt.rcParams[\"axes.labelweight\"] = \"bold\"\n",
    "plt.rcParams['xtick.major.pad'] = '.1'\n",
    "\n",
    "%matplotlib inline\n",
    "\n"
   ]
  },
  {
   "cell_type": "code",
   "execution_count": 47,
   "metadata": {},
   "outputs": [],
   "source": [
    "vector_df = q2.Artifact.load('./15000_shannon_matrix_val1_QE_HBM_R.qza').view(pd.Series)"
   ]
  },
  {
   "cell_type": "code",
   "execution_count": 48,
   "metadata": {},
   "outputs": [],
   "source": [
    "md = q2.Metadata.load('./metadata_HBM_15000_matrix.tsv').to_dataframe()"
   ]
  },
  {
   "cell_type": "code",
   "execution_count": 49,
   "metadata": {},
   "outputs": [],
   "source": [
    "md = md.loc[md.index.isin(vector_df.index)]"
   ]
  },
  {
   "cell_type": "code",
   "execution_count": 50,
   "metadata": {},
   "outputs": [],
   "source": [
    "md = md.merge(vector_df, left_index=True, right_index=True)"
   ]
  },
  {
   "cell_type": "code",
   "execution_count": 51,
   "metadata": {},
   "outputs": [
    {
     "data": {
      "text/html": [
       "<div>\n",
       "<style scoped>\n",
       "    .dataframe tbody tr th:only-of-type {\n",
       "        vertical-align: middle;\n",
       "    }\n",
       "\n",
       "    .dataframe tbody tr th {\n",
       "        vertical-align: top;\n",
       "    }\n",
       "\n",
       "    .dataframe thead th {\n",
       "        text-align: right;\n",
       "    }\n",
       "</style>\n",
       "<table border=\"1\" class=\"dataframe\">\n",
       "  <thead>\n",
       "    <tr style=\"text-align: right;\">\n",
       "      <th></th>\n",
       "      <th>filename</th>\n",
       "      <th>ATTRIBUTE_locationcell</th>\n",
       "      <th>ATTRIBUTE_dna_conc</th>\n",
       "      <th>ATTRIBUTE_sample_type</th>\n",
       "      <th>ATTRIBUTE_sample_type2</th>\n",
       "      <th>ATTRIBUTE_host_life_stage</th>\n",
       "      <th>ATTRIBUTE_host_subject_id</th>\n",
       "      <th>ATTRIBUTE_pseudosample_id</th>\n",
       "      <th>replicate</th>\n",
       "      <th>ATTRIBUTE_storage_solution</th>\n",
       "      <th>ATTRIBUTE_host_body_mass_index</th>\n",
       "      <th>ATTRIBUTE_extraction_protocol</th>\n",
       "      <th>shannon_entropy</th>\n",
       "    </tr>\n",
       "  </thead>\n",
       "  <tbody>\n",
       "    <tr>\n",
       "      <th>P3_A1.mzML</th>\n",
       "      <td>P3_A1.mzML</td>\n",
       "      <td>A1</td>\n",
       "      <td>6.448</td>\n",
       "      <td>feces</td>\n",
       "      <td>human_feces</td>\n",
       "      <td>adult</td>\n",
       "      <td>A</td>\n",
       "      <td>Plate 3 HBM_human_feces_A_Matrix1</td>\n",
       "      <td>1.0</td>\n",
       "      <td>etoh</td>\n",
       "      <td>not applicable</td>\n",
       "      <td>Matrix</td>\n",
       "      <td>5.589098</td>\n",
       "    </tr>\n",
       "    <tr>\n",
       "      <th>P3_A10.mzML</th>\n",
       "      <td>P3_A10.mzML</td>\n",
       "      <td>A10</td>\n",
       "      <td>32.106</td>\n",
       "      <td>feces</td>\n",
       "      <td>mouse_feces</td>\n",
       "      <td>adult</td>\n",
       "      <td>mouse1</td>\n",
       "      <td>Plate 3 HBM_mouse_feces_mouse1_Matrix1</td>\n",
       "      <td>1.0</td>\n",
       "      <td>isopropanol</td>\n",
       "      <td>not applicable</td>\n",
       "      <td>Matrix</td>\n",
       "      <td>6.169351</td>\n",
       "    </tr>\n",
       "    <tr>\n",
       "      <th>P3_A11.mzML</th>\n",
       "      <td>P3_A11.mzML</td>\n",
       "      <td>A11</td>\n",
       "      <td>6.507</td>\n",
       "      <td>feces</td>\n",
       "      <td>mouse_feces</td>\n",
       "      <td>adult</td>\n",
       "      <td>mouse2</td>\n",
       "      <td>Plate 3 HBM_mouse_feces_mouse2_Matrix1</td>\n",
       "      <td>1.0</td>\n",
       "      <td>isopropanol</td>\n",
       "      <td>not applicable</td>\n",
       "      <td>Matrix</td>\n",
       "      <td>6.194774</td>\n",
       "    </tr>\n",
       "    <tr>\n",
       "      <th>P3_A12.mzML</th>\n",
       "      <td>P3_A12.mzML</td>\n",
       "      <td>A12</td>\n",
       "      <td>3.158</td>\n",
       "      <td>feces</td>\n",
       "      <td>mouse_feces</td>\n",
       "      <td>adult</td>\n",
       "      <td>mouse3</td>\n",
       "      <td>Plate 3 HBM_mouse_feces_mouse3_Matrix1</td>\n",
       "      <td>1.0</td>\n",
       "      <td>isopropanol</td>\n",
       "      <td>not applicable</td>\n",
       "      <td>Matrix</td>\n",
       "      <td>6.033729</td>\n",
       "    </tr>\n",
       "    <tr>\n",
       "      <th>P3_A2.mzML</th>\n",
       "      <td>P3_A2.mzML</td>\n",
       "      <td>A2</td>\n",
       "      <td>1.285</td>\n",
       "      <td>saliva</td>\n",
       "      <td>human_saliva_before_brushing</td>\n",
       "      <td>adult</td>\n",
       "      <td>A</td>\n",
       "      <td>Plate 3 HBM_human_saliva_before_brushing_A_Mat...</td>\n",
       "      <td>1.0</td>\n",
       "      <td>etoh</td>\n",
       "      <td>not applicable</td>\n",
       "      <td>Matrix</td>\n",
       "      <td>6.010015</td>\n",
       "    </tr>\n",
       "    <tr>\n",
       "      <th>...</th>\n",
       "      <td>...</td>\n",
       "      <td>...</td>\n",
       "      <td>...</td>\n",
       "      <td>...</td>\n",
       "      <td>...</td>\n",
       "      <td>...</td>\n",
       "      <td>...</td>\n",
       "      <td>...</td>\n",
       "      <td>...</td>\n",
       "      <td>...</td>\n",
       "      <td>...</td>\n",
       "      <td>...</td>\n",
       "      <td>...</td>\n",
       "    </tr>\n",
       "    <tr>\n",
       "      <th>P3_H5.mzML</th>\n",
       "      <td>P3_H5.mzML</td>\n",
       "      <td>H5</td>\n",
       "      <td>1.114</td>\n",
       "      <td>saliva</td>\n",
       "      <td>human_saliva_before_brushing</td>\n",
       "      <td>adult</td>\n",
       "      <td>C</td>\n",
       "      <td>Plate 3 HBM_human_saliva_before_brushing_C_Mat...</td>\n",
       "      <td>3.0</td>\n",
       "      <td>isopropanol</td>\n",
       "      <td>not applicable</td>\n",
       "      <td>Matrix</td>\n",
       "      <td>5.557002</td>\n",
       "    </tr>\n",
       "    <tr>\n",
       "      <th>P3_H6.mzML</th>\n",
       "      <td>P3_H6.mzML</td>\n",
       "      <td>H6</td>\n",
       "      <td>0.990</td>\n",
       "      <td>saliva</td>\n",
       "      <td>human_saliva_after_brushing</td>\n",
       "      <td>adult</td>\n",
       "      <td>C</td>\n",
       "      <td>Plate 3 HBM_human_saliva_after_brushing_C_Matrix3</td>\n",
       "      <td>3.0</td>\n",
       "      <td>isopropanol</td>\n",
       "      <td>not applicable</td>\n",
       "      <td>Matrix</td>\n",
       "      <td>5.905981</td>\n",
       "    </tr>\n",
       "    <tr>\n",
       "      <th>P3_H7.mzML</th>\n",
       "      <td>P3_H7.mzML</td>\n",
       "      <td>H7</td>\n",
       "      <td>2.002</td>\n",
       "      <td>saliva</td>\n",
       "      <td>human_saliva_before_brushing</td>\n",
       "      <td>adult</td>\n",
       "      <td>D</td>\n",
       "      <td>Plate 3 HBM_human_saliva_before_brushing_D_Mat...</td>\n",
       "      <td>3.0</td>\n",
       "      <td>etoh</td>\n",
       "      <td>not applicable</td>\n",
       "      <td>Matrix</td>\n",
       "      <td>6.085293</td>\n",
       "    </tr>\n",
       "    <tr>\n",
       "      <th>P3_H8.mzML</th>\n",
       "      <td>P3_H8.mzML</td>\n",
       "      <td>H8</td>\n",
       "      <td>0.767</td>\n",
       "      <td>saliva</td>\n",
       "      <td>human_saliva_after_brushing</td>\n",
       "      <td>adult</td>\n",
       "      <td>D</td>\n",
       "      <td>Plate 3 HBM_human_saliva_after_brushing_D_Matrix3</td>\n",
       "      <td>3.0</td>\n",
       "      <td>etoh</td>\n",
       "      <td>not applicable</td>\n",
       "      <td>Matrix</td>\n",
       "      <td>4.755884</td>\n",
       "    </tr>\n",
       "    <tr>\n",
       "      <th>P3_H9.mzML</th>\n",
       "      <td>P3_H9.mzML</td>\n",
       "      <td>H9</td>\n",
       "      <td>17.250</td>\n",
       "      <td>feces</td>\n",
       "      <td>mouse_feces</td>\n",
       "      <td>adult</td>\n",
       "      <td>mouse1</td>\n",
       "      <td>Plate 3 HBM_mouse_feces_mouse1_Matrix3</td>\n",
       "      <td>3.0</td>\n",
       "      <td>etoh</td>\n",
       "      <td>not applicable</td>\n",
       "      <td>Matrix</td>\n",
       "      <td>6.146173</td>\n",
       "    </tr>\n",
       "  </tbody>\n",
       "</table>\n",
       "<p>84 rows × 13 columns</p>\n",
       "</div>"
      ],
      "text/plain": [
       "                filename ATTRIBUTE_locationcell  ATTRIBUTE_dna_conc  \\\n",
       "P3_A1.mzML    P3_A1.mzML                     A1               6.448   \n",
       "P3_A10.mzML  P3_A10.mzML                    A10              32.106   \n",
       "P3_A11.mzML  P3_A11.mzML                    A11               6.507   \n",
       "P3_A12.mzML  P3_A12.mzML                    A12               3.158   \n",
       "P3_A2.mzML    P3_A2.mzML                     A2               1.285   \n",
       "...                  ...                    ...                 ...   \n",
       "P3_H5.mzML    P3_H5.mzML                     H5               1.114   \n",
       "P3_H6.mzML    P3_H6.mzML                     H6               0.990   \n",
       "P3_H7.mzML    P3_H7.mzML                     H7               2.002   \n",
       "P3_H8.mzML    P3_H8.mzML                     H8               0.767   \n",
       "P3_H9.mzML    P3_H9.mzML                     H9              17.250   \n",
       "\n",
       "            ATTRIBUTE_sample_type        ATTRIBUTE_sample_type2  \\\n",
       "P3_A1.mzML                  feces                   human_feces   \n",
       "P3_A10.mzML                 feces                   mouse_feces   \n",
       "P3_A11.mzML                 feces                   mouse_feces   \n",
       "P3_A12.mzML                 feces                   mouse_feces   \n",
       "P3_A2.mzML                 saliva  human_saliva_before_brushing   \n",
       "...                           ...                           ...   \n",
       "P3_H5.mzML                 saliva  human_saliva_before_brushing   \n",
       "P3_H6.mzML                 saliva   human_saliva_after_brushing   \n",
       "P3_H7.mzML                 saliva  human_saliva_before_brushing   \n",
       "P3_H8.mzML                 saliva   human_saliva_after_brushing   \n",
       "P3_H9.mzML                  feces                   mouse_feces   \n",
       "\n",
       "            ATTRIBUTE_host_life_stage ATTRIBUTE_host_subject_id  \\\n",
       "P3_A1.mzML                      adult                         A   \n",
       "P3_A10.mzML                     adult                    mouse1   \n",
       "P3_A11.mzML                     adult                    mouse2   \n",
       "P3_A12.mzML                     adult                    mouse3   \n",
       "P3_A2.mzML                      adult                         A   \n",
       "...                               ...                       ...   \n",
       "P3_H5.mzML                      adult                         C   \n",
       "P3_H6.mzML                      adult                         C   \n",
       "P3_H7.mzML                      adult                         D   \n",
       "P3_H8.mzML                      adult                         D   \n",
       "P3_H9.mzML                      adult                    mouse1   \n",
       "\n",
       "                                     ATTRIBUTE_pseudosample_id  replicate  \\\n",
       "P3_A1.mzML                   Plate 3 HBM_human_feces_A_Matrix1        1.0   \n",
       "P3_A10.mzML             Plate 3 HBM_mouse_feces_mouse1_Matrix1        1.0   \n",
       "P3_A11.mzML             Plate 3 HBM_mouse_feces_mouse2_Matrix1        1.0   \n",
       "P3_A12.mzML             Plate 3 HBM_mouse_feces_mouse3_Matrix1        1.0   \n",
       "P3_A2.mzML   Plate 3 HBM_human_saliva_before_brushing_A_Mat...        1.0   \n",
       "...                                                        ...        ...   \n",
       "P3_H5.mzML   Plate 3 HBM_human_saliva_before_brushing_C_Mat...        3.0   \n",
       "P3_H6.mzML   Plate 3 HBM_human_saliva_after_brushing_C_Matrix3        3.0   \n",
       "P3_H7.mzML   Plate 3 HBM_human_saliva_before_brushing_D_Mat...        3.0   \n",
       "P3_H8.mzML   Plate 3 HBM_human_saliva_after_brushing_D_Matrix3        3.0   \n",
       "P3_H9.mzML              Plate 3 HBM_mouse_feces_mouse1_Matrix3        3.0   \n",
       "\n",
       "            ATTRIBUTE_storage_solution ATTRIBUTE_host_body_mass_index  \\\n",
       "P3_A1.mzML                        etoh                 not applicable   \n",
       "P3_A10.mzML                isopropanol                 not applicable   \n",
       "P3_A11.mzML                isopropanol                 not applicable   \n",
       "P3_A12.mzML                isopropanol                 not applicable   \n",
       "P3_A2.mzML                        etoh                 not applicable   \n",
       "...                                ...                            ...   \n",
       "P3_H5.mzML                 isopropanol                 not applicable   \n",
       "P3_H6.mzML                 isopropanol                 not applicable   \n",
       "P3_H7.mzML                        etoh                 not applicable   \n",
       "P3_H8.mzML                        etoh                 not applicable   \n",
       "P3_H9.mzML                        etoh                 not applicable   \n",
       "\n",
       "            ATTRIBUTE_extraction_protocol  shannon_entropy  \n",
       "P3_A1.mzML                         Matrix         5.589098  \n",
       "P3_A10.mzML                        Matrix         6.169351  \n",
       "P3_A11.mzML                        Matrix         6.194774  \n",
       "P3_A12.mzML                        Matrix         6.033729  \n",
       "P3_A2.mzML                         Matrix         6.010015  \n",
       "...                                   ...              ...  \n",
       "P3_H5.mzML                         Matrix         5.557002  \n",
       "P3_H6.mzML                         Matrix         5.905981  \n",
       "P3_H7.mzML                         Matrix         6.085293  \n",
       "P3_H8.mzML                         Matrix         4.755884  \n",
       "P3_H9.mzML                         Matrix         6.146173  \n",
       "\n",
       "[84 rows x 13 columns]"
      ]
     },
     "execution_count": 51,
     "metadata": {},
     "output_type": "execute_result"
    }
   ],
   "source": [
    "md"
   ]
  },
  {
   "cell_type": "code",
   "execution_count": 52,
   "metadata": {},
   "outputs": [],
   "source": [
    "def fancy_plotting(df):\n",
    "    g = sns.relplot(data=df, x='etoh', y='isopropanol',\n",
    "                    col='ATTRIBUTE_sample_type2',\n",
    "                    col_order=['human_feces', 'mouse_feces', 'human_saliva_before_brushing', 'human_saliva_after_brushing'],\n",
    "                    col_wrap=2,\n",
    "                    kind='scatter')\n",
    "    g.map_dataframe(sns.regplot, x='etoh', y='isopropanol')\n",
    "    g.set_titles('{col_name}')\n",
    "    return g"
   ]
  },
  {
   "cell_type": "code",
   "execution_count": 53,
   "metadata": {
    "scrolled": true
   },
   "outputs": [
    {
     "data": {
      "text/plain": [
       "<seaborn.axisgrid.FacetGrid at 0x7f7edd0a68b0>"
      ]
     },
     "execution_count": 53,
     "metadata": {},
     "output_type": "execute_result"
    },
    {
     "data": {
      "image/png": "[encoded data removed]",
      "text/plain": [
       "<Figure size 720x720 with 4 Axes>"
      ]
     },
     "metadata": {
      "needs_background": "light"
     },
     "output_type": "display_data"
    }
   ],
   "source": [
    "c = []\n",
    "for loc, metadata in md.groupby('ATTRIBUTE_pseudosample_id'):\n",
    "    if metadata.shape[0] == 2:\n",
    "        c.append([loc,\n",
    "                  metadata.loc[metadata['ATTRIBUTE_storage_solution'] == 'etoh', 'shannon_entropy'].values[0],\n",
    "                  metadata.loc[metadata['ATTRIBUTE_storage_solution'] == 'isopropanol', 'shannon_entropy'].values[0],\n",
    "                  metadata.loc[metadata['ATTRIBUTE_storage_solution'] == 'etoh', 'ATTRIBUTE_sample_type2'].values[0]])\n",
    "fancy_plotting(pd.DataFrame(c, columns=['ATTRIBUTE_pseudosample_id', 'etoh', 'isopropanol', 'ATTRIBUTE_sample_type2']))"
   ]
  },
  {
   "cell_type": "code",
   "execution_count": 65,
   "metadata": {
    "scrolled": true
   },
   "outputs": [
    {
     "data": {
      "image/png": "[encoded data removed]",
      "text/plain": [
       "<Figure size 720x720 with 4 Axes>"
      ]
     },
     "metadata": {
      "needs_background": "light"
     },
     "output_type": "display_data"
    }
   ],
   "source": [
    "fancy_plotting(pd.DataFrame(c, columns=['ATTRIBUTE_pseudosample_id', 'etoh', 'isopropanol', 'ATTRIBUTE_sample_type2'])).savefig('./QE_shannon_entropy_storage_solution_scatter.png')"
   ]
  },
  {
   "cell_type": "code",
   "execution_count": 57,
   "metadata": {},
   "outputs": [],
   "source": [
    "import scipy.stats as stats"
   ]
  },
  {
   "cell_type": "code",
   "execution_count": 58,
   "metadata": {},
   "outputs": [
    {
     "data": {
      "text/plain": [
       "P3_A1.mzML     5.589098\n",
       "P3_A10.mzML    6.169351\n",
       "P3_A11.mzML    6.194774\n",
       "P3_A12.mzML    6.033729\n",
       "P3_A2.mzML     6.010015\n",
       "                 ...   \n",
       "P3_H5.mzML     5.557002\n",
       "P3_H6.mzML     5.905981\n",
       "P3_H7.mzML     6.085293\n",
       "P3_H8.mzML     4.755884\n",
       "P3_H9.mzML     6.146173\n",
       "Name: shannon_entropy, Length: 84, dtype: float64"
      ]
     },
     "execution_count": 58,
     "metadata": {},
     "output_type": "execute_result"
    }
   ],
   "source": [
    "md['shannon_entropy']"
   ]
  },
  {
   "cell_type": "code",
   "execution_count": 59,
   "metadata": {},
   "outputs": [],
   "source": [
    "md.etoh=md[md.ATTRIBUTE_storage_solution == 'etoh']\n",
    "md.ipa=md[md.ATTRIBUTE_storage_solution == 'isopropanol']\n",
    "md.etoh.shannon=md.etoh['shannon_entropy']\n",
    "md.ipa.shannon=md.ipa['shannon_entropy']\n",
    "\n",
    "md.etoh.mouse=md.etoh[md.etoh.ATTRIBUTE_sample_type2 == 'mouse_feces']\n",
    "md.etoh.mouse.shannon=md.etoh.mouse['shannon_entropy']\n",
    "md.ipa.mouse=md.ipa[md.ipa.ATTRIBUTE_sample_type2 == 'mouse_feces']\n",
    "md.ipa.mouse.shannon=md.ipa.mouse['shannon_entropy']\n",
    "\n",
    "md.etoh.human=md.etoh[md.etoh.ATTRIBUTE_sample_type2 == 'human_feces']\n",
    "md.etoh.human.shannon=md.etoh.human['shannon_entropy']\n",
    "md.ipa.human=md.ipa[md.ipa.ATTRIBUTE_sample_type2 == 'human_feces']\n",
    "md.ipa.human.shannon=md.ipa.human['shannon_entropy']\n",
    "\n",
    "md.etoh.saliva_b=md.etoh[md.etoh.ATTRIBUTE_sample_type2 == 'human_saliva_before_brushing']\n",
    "md.etoh.saliva_b.shannon=md.etoh.saliva_b['shannon_entropy']\n",
    "md.ipa.saliva_b=md.ipa[md.ipa.ATTRIBUTE_sample_type2 == 'human_saliva_before_brushing']\n",
    "md.ipa.saliva_b.shannon=md.ipa.saliva_b['shannon_entropy']\n",
    "\n",
    "md.etoh.saliva_a=md.etoh[md.etoh.ATTRIBUTE_sample_type2 == 'human_saliva_after_brushing']\n",
    "md.etoh.saliva_a.shannon=md.etoh.saliva_a['shannon_entropy']\n",
    "md.ipa.saliva_a=md.ipa[md.ipa.ATTRIBUTE_sample_type2 == 'human_saliva_after_brushing']\n",
    "md.ipa.saliva_a.shannon=md.ipa.saliva_a['shannon_entropy']"
   ]
  },
  {
   "cell_type": "code",
   "execution_count": 60,
   "metadata": {},
   "outputs": [
    {
     "data": {
      "text/plain": [
       "WilcoxonResult(statistic=303.0, pvalue=0.06382007480306129)"
      ]
     },
     "execution_count": 60,
     "metadata": {},
     "output_type": "execute_result"
    }
   ],
   "source": [
    "stats.wilcoxon(md.etoh.shannon,md.ipa.shannon)\n",
    "\n"
   ]
  },
  {
   "cell_type": "code",
   "execution_count": 61,
   "metadata": {},
   "outputs": [
    {
     "data": {
      "text/plain": [
       "WilcoxonResult(statistic=19.0, pvalue=0.12939453125)"
      ]
     },
     "execution_count": 61,
     "metadata": {},
     "output_type": "execute_result"
    }
   ],
   "source": [
    "stats.wilcoxon(md.ipa.mouse.shannon,md.etoh.mouse.shannon)"
   ]
  },
  {
   "cell_type": "code",
   "execution_count": 62,
   "metadata": {},
   "outputs": [
    {
     "data": {
      "text/plain": [
       "WilcoxonResult(statistic=10.0, pvalue=0.02099609375)"
      ]
     },
     "execution_count": 62,
     "metadata": {},
     "output_type": "execute_result"
    }
   ],
   "source": [
    "stats.wilcoxon(md.ipa.human.shannon,md.etoh.human.shannon)"
   ]
  },
  {
   "cell_type": "code",
   "execution_count": 63,
   "metadata": {},
   "outputs": [
    {
     "data": {
      "text/plain": [
       "WilcoxonResult(statistic=18.0, pvalue=0.65234375)"
      ]
     },
     "execution_count": 63,
     "metadata": {},
     "output_type": "execute_result"
    }
   ],
   "source": [
    "stats.wilcoxon(md.ipa.saliva_b.shannon,md.etoh.saliva_b.shannon)"
   ]
  },
  {
   "cell_type": "code",
   "execution_count": 64,
   "metadata": {},
   "outputs": [
    {
     "data": {
      "text/plain": [
       "WilcoxonResult(statistic=15.0, pvalue=0.42578125)"
      ]
     },
     "execution_count": 64,
     "metadata": {},
     "output_type": "execute_result"
    }
   ],
   "source": [
    "stats.wilcoxon(md.ipa.saliva_a.shannon,md.etoh.saliva_a.shannon)"
   ]
  },
  {
   "cell_type": "code",
   "execution_count": null,
   "metadata": {},
   "outputs": [],
   "source": []
  }
 ],
 "metadata": {
  "kernelspec": {
   "display_name": "Python 3 (ipykernel)",
   "language": "python",
   "name": "python3"
  },
  "language_info": {
   "codemirror_mode": {
    "name": "ipython",
    "version": 3
   },
   "file_extension": ".py",
   "mimetype": "text/x-python",
   "name": "python",
   "nbconvert_exporter": "python",
   "pygments_lexer": "ipython3",
   "version": "3.8.13"
  }
 },
 "nbformat": 4,
 "nbformat_minor": 2
}
