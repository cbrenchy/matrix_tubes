{
 "cells": [
  {
   "cell_type": "code",
   "execution_count": 3,
   "metadata": {},
   "outputs": [],
   "source": [
    "#import plugins\n",
    "import biom\n",
    "import os\n",
    "import pandas as pd\n",
    "import qiime2 as q2\n",
    "from qiime2.plugins.emperor.actions import plot, biplot\n",
    "from qiime2.plugins.deicode.actions import rpca\n",
    "from qiime2.plugins.diversity.actions import core_metrics_phylogenetic\n",
    "from qiime2.plugins.fragment_insertion.methods import filter_features\n",
    "from qiime2.plugins.diversity.visualizers import beta_group_significance\n",
    "from qiime2.plugins.diversity.visualizers import alpha_group_significance\n",
    "from qiime2.plugins.metadata.visualizers import tabulate\n",
    "from qiime2.plugins.diversity.actions import alpha #I replaced \"methods\" with \"actions\"\n",
    "from qiime2.plugins import taxa"
   ]
  },
  {
   "cell_type": "code",
   "execution_count": 4,
   "metadata": {},
   "outputs": [],
   "source": [
    "SEQ_TYPE='shotgun'"
   ]
  },
  {
   "cell_type": "code",
   "execution_count": 10,
   "metadata": {},
   "outputs": [],
   "source": [
    "#import filtered table \n",
    "#tree_filtered_table = q2.Artifact.load('{SEQ_TYPE}/filtered-table.qza'.format(SEQ_TYPE=SEQ_TYPE))\n",
    "\n",
    "#import filtered metadata\n",
    "q2mf_filtered = q2.Metadata.load('HBM_Matrix_LCMS_1500/metadata_ms_HBM.tsv'.format(SEQ_TYPE=SEQ_TYPE))\n",
    "\n",
    "#import tree\n",
    "#rooted_tree = q2.Artifact.load('{SEQ_TYPE}/tree.qza'.format(SEQ_TYPE=SEQ_TYPE))"
   ]
  },
  {
   "cell_type": "code",
   "execution_count": 6,
   "metadata": {},
   "outputs": [
    {
     "name": "stderr",
     "output_type": "stream",
     "text": [
      "/Users/caitrionabrennan/opt/anaconda3/envs/qiime2-2021.8/lib/python3.8/site-packages/sklearn/metrics/pairwise.py:1776: DataConversionWarning: Data was converted to boolean for metric jaccard\n",
      "  warnings.warn(msg, DataConversionWarning)\n",
      "/Users/caitrionabrennan/opt/anaconda3/envs/qiime2-2021.8/lib/python3.8/site-packages/skbio/stats/ordination/_principal_coordinate_analysis.py:143: RuntimeWarning: The result contains negative eigenvalues. Please compare their magnitude with the magnitude of some of the largest positive eigenvalues. If the negative ones are smaller, it's probably safe to ignore them, but if they are large in magnitude, the results won't be useful. See the Notes section for more details. The smallest eigenvalue is -0.016203284901642002 and the largest is 17.006482277512927.\n",
      "  warn(\n",
      "/Users/caitrionabrennan/opt/anaconda3/envs/qiime2-2021.8/lib/python3.8/site-packages/skbio/stats/ordination/_principal_coordinate_analysis.py:143: RuntimeWarning: The result contains negative eigenvalues. Please compare their magnitude with the magnitude of some of the largest positive eigenvalues. If the negative ones are smaller, it's probably safe to ignore them, but if they are large in magnitude, the results won't be useful. See the Notes section for more details. The smallest eigenvalue is -0.30452557396841473 and the largest is 20.094968938041276.\n",
      "  warn(\n",
      "/Users/caitrionabrennan/opt/anaconda3/envs/qiime2-2021.8/lib/python3.8/site-packages/skbio/stats/ordination/_principal_coordinate_analysis.py:143: RuntimeWarning: The result contains negative eigenvalues. Please compare their magnitude with the magnitude of some of the largest positive eigenvalues. If the negative ones are smaller, it's probably safe to ignore them, but if they are large in magnitude, the results won't be useful. See the Notes section for more details. The smallest eigenvalue is -0.04781114532019971 and the largest is 15.181916163618942.\n",
      "  warn(\n",
      "/Users/caitrionabrennan/opt/anaconda3/envs/qiime2-2021.8/lib/python3.8/site-packages/skbio/stats/ordination/_principal_coordinate_analysis.py:143: RuntimeWarning: The result contains negative eigenvalues. Please compare their magnitude with the magnitude of some of the largest positive eigenvalues. If the negative ones are smaller, it's probably safe to ignore them, but if they are large in magnitude, the results won't be useful. See the Notes section for more details. The smallest eigenvalue is -1.3376619744802014 and the largest is 108.21493951788138.\n",
      "  warn(\n"
     ]
    },
    {
     "ename": "FileExistsError",
     "evalue": "[Errno 17] File exists: 'shotgun/core-metrics-1000'",
     "output_type": "error",
     "traceback": [
      "\u001b[0;31m---------------------------------------------------------------------------\u001b[0m",
      "\u001b[0;31mFileExistsError\u001b[0m                           Traceback (most recent call last)",
      "\u001b[0;32m/var/folders/lh/d1kdwkz53856l7_mtjyz0f640000gn/T/ipykernel_18473/3220829080.py\u001b[0m in \u001b[0;36m<module>\u001b[0;34m\u001b[0m\n\u001b[1;32m      6\u001b[0m                                              q2mf_filtered)\n\u001b[1;32m      7\u001b[0m \u001b[0;34m\u001b[0m\u001b[0m\n\u001b[0;32m----> 8\u001b[0;31m     \u001b[0mos\u001b[0m\u001b[0;34m.\u001b[0m\u001b[0mmkdir\u001b[0m\u001b[0;34m(\u001b[0m\u001b[0;34m(\u001b[0m\u001b[0;34m'{SEQ_TYPE}/core-metrics-%i'\u001b[0m\u001b[0;34m.\u001b[0m\u001b[0mformat\u001b[0m\u001b[0;34m(\u001b[0m\u001b[0mSEQ_TYPE\u001b[0m\u001b[0;34m=\u001b[0m\u001b[0mSEQ_TYPE\u001b[0m\u001b[0;34m)\u001b[0m\u001b[0;34m)\u001b[0m\u001b[0;34m%\u001b[0m\u001b[0;34m(\u001b[0m\u001b[0mrf_depth\u001b[0m\u001b[0;34m)\u001b[0m\u001b[0;34m)\u001b[0m\u001b[0;34m\u001b[0m\u001b[0;34m\u001b[0m\u001b[0m\n\u001b[0m\u001b[1;32m      9\u001b[0m \u001b[0;34m\u001b[0m\u001b[0m\n\u001b[1;32m     10\u001b[0m     \u001b[0;32mfor\u001b[0m \u001b[0mname\u001b[0m\u001b[0;34m,\u001b[0m \u001b[0mq2art\u001b[0m \u001b[0;32min\u001b[0m \u001b[0mzip\u001b[0m\u001b[0;34m(\u001b[0m\u001b[0mcore_results\u001b[0m\u001b[0;34m.\u001b[0m\u001b[0m_fields\u001b[0m\u001b[0;34m,\u001b[0m \u001b[0mcore_results\u001b[0m\u001b[0;34m)\u001b[0m\u001b[0;34m:\u001b[0m\u001b[0;34m\u001b[0m\u001b[0;34m\u001b[0m\u001b[0m\n",
      "\u001b[0;31mFileExistsError\u001b[0m: [Errno 17] File exists: 'shotgun/core-metrics-1000'"
     ]
    }
   ],
   "source": [
    "#core diversity metrics @ different sequencing depths\n",
    "# for rf_depth in [1000, 10000, 100000, 500000, 1000000 ]:\n",
    "#     core_results = core_metrics_phylogenetic(tree_filtered_table,\n",
    "#                                              rooted_tree,\n",
    "#                                              rf_depth,\n",
    "#                                              q2mf_filtered)\n",
    "    \n",
    "#     os.mkdir(('{SEQ_TYPE}/core-metrics-%i'.format(SEQ_TYPE=SEQ_TYPE))%(rf_depth))\n",
    "    \n",
    "#     for name, q2art in zip(core_results._fields, core_results):\n",
    "#         out_ = os.path.join(('{SEQ_TYPE}/core-metrics-%i'.format(SEQ_TYPE=SEQ_TYPE))%(rf_depth),name)\n",
    "#         q2art.save(out_)"
   ]
  },
  {
   "cell_type": "code",
   "execution_count": null,
   "metadata": {},
   "outputs": [],
   "source": [
    "#visualize core metric qzv plots in jupyter notebooks\n",
    "q2.Visualization.load('{SEQ_TYPE}/core-metrics-1000/unweighted_unifrac_emperor.qzv'.format(SEQ_TYPE=SEQ_TYPE))"
   ]
  },
  {
   "cell_type": "code",
   "execution_count": null,
   "metadata": {},
   "outputs": [],
   "source": [
    "#visualize core metric qzv plots in jupyter notebooks\n",
    "q2.Visualization.load('{SEQ_TYPE}/core-metrics-500000/weighted_unifrac_emperor.qzv'.format(SEQ_TYPE=SEQ_TYPE))"
   ]
  },
  {
   "cell_type": "code",
   "execution_count": null,
   "metadata": {},
   "outputs": [],
   "source": [
    "#make deicode/rpca beta diversity plot\n",
    "rpcares = rpca(tree_filtered_table)\n",
    "\n",
    "#makes a directory to put the output in\n",
    "os.mkdir('{SEQ_TYPE}/rpca-res-fresh'.format(SEQ_TYPE=SEQ_TYPE))\n",
    "for name, q2art in zip(rpcares._fields, rpcares):\n",
    "    out_ = os.path.join('{SEQ_TYPE}/rpca-res-fresh'.format(SEQ_TYPE=SEQ_TYPE),name)\n",
    "    q2art.save(out_)"
   ]
  },
  {
   "cell_type": "code",
   "execution_count": null,
   "metadata": {},
   "outputs": [],
   "source": [
    "#import biplot made by rpca\n",
    "bi_plot = q2.Artifact.load('{SEQ_TYPE}/rpca-res-fresh/biplot.qza'.format(SEQ_TYPE=SEQ_TYPE))\n",
    "bi_plot"
   ]
  },
  {
   "cell_type": "code",
   "execution_count": null,
   "metadata": {},
   "outputs": [],
   "source": [
    "empbiplt = biplot(bi_plot,q2mf_filtered)\n",
    "empbiplt"
   ]
  },
  {
   "cell_type": "code",
   "execution_count": null,
   "metadata": {
    "scrolled": true
   },
   "outputs": [],
   "source": [
    "empbiplt.visualization"
   ]
  },
  {
   "cell_type": "code",
   "execution_count": null,
   "metadata": {},
   "outputs": [],
   "source": [
    "#save rpca visualization\n",
    "empbiplt.visualization.save('{SEQ_TYPE}/rpca-res-fresh/empbiplt.qzv'.format(SEQ_TYPE=SEQ_TYPE))"
   ]
  },
  {
   "cell_type": "code",
   "execution_count": null,
   "metadata": {},
   "outputs": [],
   "source": [
    "UnUF_dist_matx = q2.Artifact.load(('{SEQ_TYPE}/core-metrics-%i/unweighted_unifrac_distance_matrix.qza'.format(SEQ_TYPE=SEQ_TYPE))%(rf_depth))\n",
    "UnUF_subject = beta_group_significance(UnUF_dist_matx,q2mf_filtered.get_column('replicate_id'))\n",
    "UnUF_subject.visualization.save(('{SEQ_TYPE}/core-metrics-%i/UnUF_replicate.qzv'.format(SEQ_TYPE=SEQ_TYPE))%(rf_depth))"
   ]
  },
  {
   "cell_type": "code",
   "execution_count": null,
   "metadata": {},
   "outputs": [],
   "source": [
    "for rf_depth in [1000, 10000, 100000, 500000, 1000000 ]:\n",
    "    UnUF_dist_matx = q2.Artifact.load(('{SEQ_TYPE}/core-metrics-%i/weighted_unifrac_distance_matrix.qza'.format(SEQ_TYPE=SEQ_TYPE))%(rf_depth))\n",
    "    UnUF_fresh = beta_group_significance(UnUF_dist_matx,q2mf_filtered.get_column('storage_solution'))\n",
    "    UnUF_fresh.visualization.save(('{SEQ_TYPE}/core-metrics-%i/UnUF_storage.qzv'.format(SEQ_TYPE=SEQ_TYPE))%(rf_depth))\n",
    "    \n",
    "    UnUF_fresh = beta_group_significance(UnUF_dist_matx,q2mf_filtered.get_column('extraction_protocol'))\n",
    "    UnUF_fresh.visualization.save(('{SEQ_TYPE}/core-metrics-%i/UnUF_extract.qzv'.format(SEQ_TYPE=SEQ_TYPE))%(rf_depth))\n",
    "    #F stat 1.5829\n",
    "    #pvalue 0.11"
   ]
  },
  {
   "cell_type": "code",
   "execution_count": null,
   "metadata": {},
   "outputs": [],
   "source": [
    "UnUF_dist_matx = q2.Artifact.load('shotgun/core-metrics-500000/unweighted_unifrac_distance_matrix.qza')\n",
    "UnUF_fresh = beta_group_significance(UnUF_dist_matx,q2mf_filtered.get_column('extraction_protocol'))\n",
    "UnUF_fresh.visualization.save('shotgun/core-metrics-500000/UnUF_extract.qzv')\n",
    "#F stat 1.5829\n",
    "#pvalue 0.11"
   ]
  },
  {
   "cell_type": "code",
   "execution_count": null,
   "metadata": {},
   "outputs": [],
   "source": [
    "#beta diversity significance weighted unifrac 10000\n",
    "WeUF_dist_matx = q2.Artifact.load('core-metrics-10000/weighted_unifrac_distance_matrix.qza')\n",
    "WeUF_species = beta_group_significance(WeUF_dist_matx,q2mf_filtered.get_column('host_common_name'))\n",
    "#save beta diversity significance unweighted unifrac 10000 visualization\n",
    "WeUF_species.visualization.save('core-metrics-10000/WeUF_species.qzv')\n",
    "#F stat 242.935\n",
    "#pvalue 0.001"
   ]
  },
  {
   "cell_type": "code",
   "execution_count": null,
   "metadata": {},
   "outputs": [],
   "source": [
    "#beta diversity significance weighted unifrac 10000\n",
    "WeUF_dist_matx = q2.Artifact.load('core-metrics-1000/weighted_unifrac_distance_matrix.qza')\n",
    "WeUF_subject = beta_group_significance(WeUF_dist_matx,q2mf_filtered.get_column('host_subject_id'))\n",
    "#save beta diversity significance unweighted unifrac 10000 visualization\n",
    "WeUF_subject.visualization.save('core-metrics-1000/WeUF_subject.qzv')\n",
    "#F stat 123.591\n",
    "#pvalue 0.001"
   ]
  },
  {
   "cell_type": "code",
   "execution_count": null,
   "metadata": {},
   "outputs": [],
   "source": [
    "#beta diversity significance weighted unifrac 10000\n",
    "WeUF_dist_matx = q2.Artifact.load('core-metrics-1000/weighted_unifrac_distance_matrix.qza')\n",
    "WeUF_fresh = beta_group_significance(WeUF_dist_matx,q2mf_filtered.get_column('storage_solution'))\n",
    "#save beta diversity significance unweighted unifrac 10000 visualization\n",
    "WeUF_fresh.visualization.save('core-metrics-1000/WeUF_storage.qzv')\n",
    "#F stat 29.1233\n",
    "#pvalue 0.001"
   ]
  },
  {
   "cell_type": "code",
   "execution_count": null,
   "metadata": {},
   "outputs": [],
   "source": [
    "#beta diversity significance weighted unifrac 10000\n",
    "WeUF_dist_matx = q2.Artifact.load('core-metrics-1000/weighted_unifrac_distance_matrix.qza')\n",
    "WeUF_fresh = beta_group_significance(WeUF_dist_matx,q2mf_filtered.get_column('extraction_protocol'))\n",
    "#save beta diversity significance unweighted unifrac 10000 visualization\n",
    "WeUF_fresh.visualization.save('core-metrics-1000/WeUF_extract.qzv')\n",
    "#F stat 29.1233\n",
    "#pvalue 0.001"
   ]
  },
  {
   "cell_type": "code",
   "execution_count": 8,
   "metadata": {},
   "outputs": [],
   "source": [
    "meta = q2.Metadata.load('HBM_Matrix_LCMS_1500/metadata_ms_HBM.tsv'.format(SEQ_TYPE=SEQ_TYPE))\n",
    "# tax = q2.Artifact.load('{SEQ_TYPE}/taxa.qza'.format(SEQ_TYPE=SEQ_TYPE))\n",
    "# tax_bp = taxa.actions.barplot(tree_filtered_table, tax, meta)\n",
    "# tax_bp.visualization"
   ]
  },
  {
   "cell_type": "code",
   "execution_count": null,
   "metadata": {},
   "outputs": [],
   "source": [
    "#beta diversity significance rpca\n",
    "rpca_dist_matx = q2.Artifact.load('rpca-res/distance_matrix.qza')\n",
    "rpca_species = beta_group_significance(rpca_dist_matx,q2mf_filtered.get_column('host_common_name'))"
   ]
  },
  {
   "cell_type": "code",
   "execution_count": null,
   "metadata": {},
   "outputs": [],
   "source": [
    "rpca_species.visualization"
   ]
  },
  {
   "cell_type": "code",
   "execution_count": null,
   "metadata": {},
   "outputs": [],
   "source": [
    "#beta diversity significance rpca\n",
    "rpca_dist_matx = q2.Artifact.load('rpca-res-fresh/distance_matrix.qza')\n",
    "rpca_species = beta_group_significance(rpca_dist_matx,q2mf_filtered.get_column('fresh_or_not'))\n",
    "rpca_species.visualization"
   ]
  },
  {
   "cell_type": "code",
   "execution_count": null,
   "metadata": {},
   "outputs": [],
   "source": [
    "#save beta diversity significance rpca\n",
    "rpca_species.visualization.save('rpca-res/rpca_species.qzv')"
   ]
  },
  {
   "cell_type": "code",
   "execution_count": null,
   "metadata": {},
   "outputs": [],
   "source": [
    "#beta diversity significance rpca\n",
    "rpca_dist_matx = q2.Artifact.load('rpca-res/distance_matrix.qza')\n",
    "rpca_species = beta_group_significance(rpca_dist_matx,q2mf_filtered.get_column('host_subject_id'))\n",
    "rpca_species.visualization.save('rpca-res/rpca_subject.qzv')"
   ]
  },
  {
   "cell_type": "code",
   "execution_count": 11,
   "metadata": {
    "scrolled": true
   },
   "outputs": [],
   "source": [
    "#shannon diversity significance and figure (API)\n",
    "shannon_vector = q2.Artifact.load('HBM_Matrix_LCMS_1500/1500_shannon_matrix_val1_noise_detect2_HBM_R.qza')\n",
    "shannon_figure = alpha_group_significance(shannon_vector,q2mf_filtered)"
   ]
  },
  {
   "cell_type": "code",
   "execution_count": 12,
   "metadata": {},
   "outputs": [
    {
     "data": {
      "text/plain": [
       "'HBM_Matrix_LCMS_1500/shannon_figure.qzv'"
      ]
     },
     "execution_count": 12,
     "metadata": {},
     "output_type": "execute_result"
    }
   ],
   "source": [
    "#save shannon alpha diversity significance\n",
    "shannon_figure.visualization.save('HBM_Matrix_LCMS_1500/shannon_figure.qzv')"
   ]
  },
  {
   "cell_type": "code",
   "execution_count": 18,
   "metadata": {},
   "outputs": [
    {
     "data": {
      "text/plain": [
       "'HBM_Matrix_LCMS_1500/jacc_stats_host.qzv'"
      ]
     },
     "execution_count": 18,
     "metadata": {},
     "output_type": "execute_result"
    }
   ],
   "source": [
    "#beta diversity significance jaccard\n",
    "j_dm = q2.Artifact.load('HBM_Matrix_LCMS_1500/distance_matrix1500_jaccard_qiime2_noise_detect2_noblanks_HBM_R.qza')\n",
    "j_stats = beta_group_significance(j_dm,q2mf_filtered.get_column('ATTRIBUTE_host_subject_id'))\n",
    "j_stats.visualization.save('HBM_Matrix_LCMS_1500/jacc_stats_host.qzv')"
   ]
  },
  {
   "cell_type": "code",
   "execution_count": 16,
   "metadata": {},
   "outputs": [
    {
     "data": {
      "text/plain": [
       "'HBM_Matrix_LCMS_1500/jacc_stats_storage.qzv'"
      ]
     },
     "execution_count": 16,
     "metadata": {},
     "output_type": "execute_result"
    }
   ],
   "source": [
    "#beta diversity significance jaccard\n",
    "j_dm = q2.Artifact.load('HBM_Matrix_LCMS_1500/distance_matrix1500_jaccard_qiime2_noise_detect2_noblanks_HBM_R.qza')\n",
    "j_stats = beta_group_significance(j_dm,q2mf_filtered.get_column('ATTRIBUTE_storagebuffer'))\n",
    "j_stats.visualization.save('HBM_Matrix_LCMS_1500/jacc_stats_storage.qzv')"
   ]
  },
  {
   "cell_type": "code",
   "execution_count": null,
   "metadata": {},
   "outputs": [],
   "source": [
    "#beta diversity significance jaccard\n",
    "j_dm = q2.Artifact.load('HBM_Matrix_LCMS_1500/distance_matrix1500_jaccard_qiime2_noise_detect2_noblanks_HBM_R.qza')\n",
    "j_stats = beta_group_significance(j_dm,q2mf_filtered.get_column('ATTRIBUTE_type'))\n",
    "j_stats.visualization.save('HBM_Matrix_LCMS_1500/jacc_stats_storage.qzv')"
   ]
  },
  {
   "cell_type": "code",
   "execution_count": null,
   "metadata": {},
   "outputs": [],
   "source": [
    "#beta diversity significance bray curtis \n",
    "bc_dm = q2.Artifact.load('core-metrics-10000/bray_curtis_distance_matrix.qza')\n",
    "bc_stats = beta_group_significance(bc_dm,q2mf_filtered.get_column('host_common_name'))\n",
    "bc_stats.visualization.save('core-metrics-10000/bc_stats_host.qzv')"
   ]
  },
  {
   "cell_type": "code",
   "execution_count": null,
   "metadata": {},
   "outputs": [],
   "source": [
    "#beta diversity significance jaccard\n",
    "j_dm = q2.Artifact.load('core-metrics-10000/jaccard_distance_matrix.qza')\n",
    "j_stats = beta_group_significance(j_dm,q2mf_filtered.get_column('host_subject_id'))\n",
    "j_stats.visualization.save('core-metrics-10000/jacc_stats_subject.qzv')"
   ]
  },
  {
   "cell_type": "code",
   "execution_count": null,
   "metadata": {},
   "outputs": [],
   "source": [
    "#beta diversity significance bray curtis \n",
    "bc_dm = q2.Artifact.load('core-metrics-10000/bray_curtis_distance_matrix.qza')\n",
    "bc_stats = beta_group_significance(bc_dm,q2mf_filtered.get_column('host_subject_id'))\n",
    "bc_stats.visualization.save('core-metrics-10000/bc_stats_subject.qzv')"
   ]
  }
 ],
 "metadata": {
  "kernelspec": {
   "display_name": "Python 3 (ipykernel)",
   "language": "python",
   "name": "python3"
  },
  "language_info": {
   "codemirror_mode": {
    "name": "ipython",
    "version": 3
   },
   "file_extension": ".py",
   "mimetype": "text/x-python",
   "name": "python",
   "nbconvert_exporter": "python",
   "pygments_lexer": "ipython3",
   "version": "3.8.10"
  }
 },
 "nbformat": 4,
 "nbformat_minor": 2
}
